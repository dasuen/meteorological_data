{
 "cells": [
  {
   "cell_type": "code",
   "execution_count": 1,
   "metadata": {},
   "outputs": [],
   "source": [
    "import pandas as pd\n",
    "import os\n",
    "import glob as gl\n",
    "import io\n"
   ]
  },
  {
   "cell_type": "code",
   "execution_count": 6,
   "metadata": {},
   "outputs": [
    {
     "name": "stdout",
     "output_type": "stream",
     "text": [
      "<Day>\n"
     ]
    }
   ],
   "source": [
    "# Specify the directory you want to search\n",
    "dir = (r'C:\\Users\\daryl\\OneDrive\\Documents\\GDAA3000\\ProjectDischarge'\n",
    "              r'\\RdrsSample\\LstmDatasets\\NsWeatherData\\01FJ002Weather\\Daily')\n",
    "\n",
    "# Get a list of all CSV files in the directory\n",
    "csv_files = gl.glob(dir + '/*8205700*.csv')\n",
    "dfs = []\n",
    "\n",
    "for csv in csv_files:\n",
    "    try:\n",
    "        # Try to read the CSV file with 'utf-8' encoding\n",
    "        with open(csv, 'rb') as f:\n",
    "            content = f.read().decode('utf-8')\n",
    "        df = pd.read_csv(io.StringIO(content))\n",
    "    except UnicodeDecodeError:\n",
    "        # If there's a UnicodeDecodeError, try a different encoding\n",
    "        with open(csv, 'rb') as f:\n",
    "            content = f.read().decode('ISO-8859-1')\n",
    "        df = pd.read_csv(io.StringIO(content))\n",
    "    dfs.append(df)\n",
    "\n",
    "df_all = pd.concat(dfs, ignore_index=True)\n",
    "df_all = df_all.drop(columns=['Longitude (x)', 'Latitude (y)', 'Station Name',\n",
    "                              'Year', 'Month', 'Day', 'Data Quality', 'Max Temp Flag',\n",
    "                               'Min Temp Flag', 'Mean Temp Flag', 'Heat Deg Days Flag',\n",
    "                                'Cool Deg Days Flag', 'Total Rain Flag', \n",
    "                                'Total Snow Flag', 'Total Precip Flag', \n",
    "                                'Snow on Grnd Flag', 'Dir of Max Gust Flag',\n",
    "                                   'Spd of Max Gust Flag'])\n",
    "# print(df_all.columns)\n",
    "# Make Date/Time a datetime object\n",
    "df_all['Date/Time'] = pd.to_datetime(df_all['Date/Time'])\n",
    "df_all = df_all.rename(columns={'Date/Time': 'date'})\n",
    "\n",
    "# Set the date as the index\n",
    "df_all.set_index('date', inplace=True)\n",
    "\n",
    "# Make the index regularly spaced (e.g., daily)\n",
    "df_all = df_all.asfreq('D')\n",
    "\n",
    "# Check if the index is regularly spaced\n",
    "print(df_all.index.freq)"
   ]
  },
  {
   "cell_type": "markdown",
   "metadata": {},
   "source": [
    "If you dont' need to concat with another station just run the below."
   ]
  },
  {
   "cell_type": "code",
   "execution_count": 3,
   "metadata": {},
   "outputs": [
    {
     "name": "stdout",
     "output_type": "stream",
     "text": [
      "Index(['Climate ID', 'date', 'max_tem_deg_c', 'min_temp_deg_c',\n",
      "       'mean_temp_deg_c', 'heat_deg_days_deg_c', 'cool_deg_days_deg_c',\n",
      "       'rain_mm', 'snow_cm', 'total_prcp_mm', 'snow_on_grnd_cm',\n",
      "       'dir_max_gust_10s_deg', 'spd_max_gust_km_h'],\n",
      "      dtype='object')\n"
     ]
    }
   ],
   "source": [
    "df_all = df_all.rename(columns={'Max Temp (°C)': 'max_tem_deg_c', \n",
    "                                      'Min Temp (°C)': 'min_temp_deg_c',\n",
    "                                      'Mean Temp (°C)': 'mean_temp_deg_c',\n",
    "                                      'Heat Deg Days (°C)': 'heat_deg_days_deg_c',\n",
    "                                      'Cool Deg Days (°C)': 'cool_deg_days_deg_c',\n",
    "                                      'Total Rain (mm)': 'rain_mm',\n",
    "                                      'Total Snow (cm)': 'snow_cm',\n",
    "                                      'Total Precip (mm)': 'total_prcp_mm',\n",
    "                                      'Snow on Grnd (cm)': 'snow_on_grnd_cm',\n",
    "                                      'Dir of Max Gust (10s deg)': 'dir_max_gust_10s_deg',\n",
    "                                      'Spd of Max Gust (km/h)': 'spd_max_gust_km_h',})\n",
    "print(df_all.columns)\n",
    "# Save the concatenated DataFrame to a new CSV file\n",
    "dst_dir = (r'C:\\Users\\daryl\\OneDrive\\Documents\\GDAA3000\\ProjectDischarge'\n",
    "           r'\\RdrsSample\\LstmDatasets\\NsWeatherData\\01ED007')\n",
    "filename = '01ED007_weather_2011-2021.csv'\n",
    "file_path = os.path.join(dst_dir, filename)\n",
    "df_all.to_csv(file_path, index=False)\n"
   ]
  },
  {
   "cell_type": "code",
   "execution_count": 15,
   "metadata": {},
   "outputs": [
    {
     "name": "stdout",
     "output_type": "stream",
     "text": [
      "<Day>\n",
      "Index(['Climate ID', 'Max Temp (°C)', 'Min Temp (°C)', 'Mean Temp (°C)',\n",
      "       'Heat Deg Days (°C)', 'Cool Deg Days (°C)', 'Total Rain (mm)',\n",
      "       'Total Snow (cm)', 'Total Precip (mm)', 'Snow on Grnd (cm)',\n",
      "       'Dir of Max Gust (10s deg)', 'Spd of Max Gust (km/h)'],\n",
      "      dtype='object')\n"
     ]
    }
   ],
   "source": [
    "# Specify the directory you want to search\n",
    "dir = (r'C:\\Users\\daryl\\OneDrive\\Documents\\GDAA3000\\ProjectDischarge'\n",
    "              r'\\RdrsSample\\LstmDatasets\\NsWeatherData\\01FJ002Weather\\Daily')\n",
    "\n",
    "# Get a list of all CSV files in the directory\n",
    "csv_files = gl.glob(dir + '/*8205701*.csv')\n",
    "dfs = []\n",
    "\n",
    "for csv in csv_files:\n",
    "    try:\n",
    "        # Try to read the CSV file with 'utf-8' encoding\n",
    "        with open(csv, 'rb') as f:\n",
    "            content = f.read().decode('utf-8')\n",
    "        df = pd.read_csv(io.StringIO(content))\n",
    "    except UnicodeDecodeError:\n",
    "        # If there's a UnicodeDecodeError, try a different encoding\n",
    "        with open(csv, 'rb') as f:\n",
    "            content = f.read().decode('ISO-8859-1')\n",
    "        df = pd.read_csv(io.StringIO(content))\n",
    "    dfs.append(df)\n",
    "\n",
    "df_all2 = pd.concat(dfs, ignore_index=True)\n",
    "df_all2 = df_all2.drop(columns=['Longitude (x)', 'Latitude (y)', 'Station Name',\n",
    "                              'Year', 'Month', 'Day', 'Data Quality', 'Max Temp Flag',\n",
    "                               'Min Temp Flag', 'Mean Temp Flag', 'Heat Deg Days Flag',\n",
    "                                'Cool Deg Days Flag', 'Total Rain Flag', \n",
    "                                'Total Snow Flag', 'Total Precip Flag', \n",
    "                                'Snow on Grnd Flag', 'Dir of Max Gust Flag',\n",
    "                                   'Spd of Max Gust Flag'])\n",
    "\n",
    "# # Make Date/Time a datetime object\n",
    "df_all2['Date/Time'] = pd.to_datetime(df_all2['Date/Time'])\n",
    "df_all2 = df_all2.rename(columns={'Date/Time': 'date'})\n",
    "\n",
    "# Set the date as the index\n",
    "df_all2.set_index('date', inplace=True)\n",
    "\n",
    "# Make the index regularly spaced (e.g., daily)\n",
    "df_all2 = df_all2.asfreq('D')\n",
    "\n",
    "# Check if the index is regularly spaced\n",
    "print(df_all2.index.freq)\n",
    "\n",
    "print(df_all2.columns)"
   ]
  },
  {
   "cell_type": "code",
   "execution_count": null,
   "metadata": {},
   "outputs": [],
   "source": []
  },
  {
   "cell_type": "code",
   "execution_count": 21,
   "metadata": {},
   "outputs": [
    {
     "name": "stdout",
     "output_type": "stream",
     "text": [
      "None\n",
      "<Day>\n",
      "Index(['Climate ID', 'max_tem_deg_c', 'min_temp_deg_c', 'mean_temp_deg_c',\n",
      "       'rain_mm', 'snow_cm', 'total_prcp_mm', 'snow_on_grnd_cm',\n",
      "       'dir_max_gust_10s_deg', 'spd_max_gust_km_h'],\n",
      "      dtype='object')\n"
     ]
    }
   ],
   "source": [
    "df_concat = pd.concat([df_all, df_all2])\n",
    "# Replace missing values with NaN\n",
    "df_concat = df_concat.replace(' ', 'NaN')\n",
    "# print(df_concat.columns)\n",
    "df_concat = df_concat.rename(columns={'Max Temp (°C)': 'max_tem_deg_c', \n",
    "                                      'Min Temp (°C)': 'min_temp_deg_c',\n",
    "                                      'Mean Temp (°C)': 'mean_temp_deg_c',\n",
    "                                      'Heat Deg Days (°C)': 'heat_deg_days_deg_c',\n",
    "                                      'Cool Deg Days (°C)': 'cool_deg_days_deg_c',\n",
    "                                      'Total Rain (mm)': 'rain_mm',\n",
    "                                      'Total Snow (cm)': 'snow_cm',\n",
    "                                      'Total Precip (mm)': 'total_prcp_mm',\n",
    "                                      'Snow on Grnd (cm)': 'snow_on_grnd_cm',\n",
    "                                      'Dir of Max Gust (10s deg)': 'dir_max_gust_10s_deg',\n",
    "                                      'Spd of Max Gust (km/h)': 'spd_max_gust_km_h',})\n",
    "df_concat = df_concat.drop(columns=['heat_deg_days_deg_c', 'cool_deg_days_deg_c'])\n",
    "# Check if the index is regularly spaced\n",
    "print(df_concat.index.freq)\n",
    "\n",
    "# Make the index regularly spaced (e.g., daily)\n",
    "df_all2 = df_all2.asfreq('D')\n",
    "\n",
    "# Check if the index is regularly spaced\n",
    "print(df_all2.index.freq)\n",
    "\n",
    "print(df_concat.columns)\n",
    "# Save the concatenated DataFrame to a new CSV file\n",
    "dst_dir = (r'C:\\Users\\daryl\\OneDrive\\Documents\\GDAA3000\\ProjectDischarge'\n",
    "           r'\\RdrsSample\\LstmDatasets\\NsWeatherData\\01FJ002Weather')\n",
    "filename = '01FJ002_weather_2011-2021.csv'\n",
    "file_path = os.path.join(dst_dir, filename)\n",
    "df_concat.to_csv(file_path)"
   ]
  }
 ],
 "metadata": {
  "kernelspec": {
   "display_name": "geospatial",
   "language": "python",
   "name": "python3"
  },
  "language_info": {
   "codemirror_mode": {
    "name": "ipython",
    "version": 3
   },
   "file_extension": ".py",
   "mimetype": "text/x-python",
   "name": "python",
   "nbconvert_exporter": "python",
   "pygments_lexer": "ipython3",
   "version": "3.12.0"
  }
 },
 "nbformat": 4,
 "nbformat_minor": 2
}
