{
 "cells": [
  {
   "cell_type": "code",
   "execution_count": 1,
   "metadata": {},
   "outputs": [],
   "source": [
    "import requests\n",
    "from bs4 import BeautifulSoup\n",
    "import os\n",
    "from datetime import datetime\n",
    "\n",
    "# URL of the the weather data download page.\n",
    "url = 'https://dd.weather.gc.ca/climate/observations/hourly/csv/NS/'\n",
    "\n",
    "# Station ID of the weather station of interest.\n",
    "stn_id = '8202000'\n",
    "\n",
    "# Destination directory to save the CSV files\n",
    "save_dir = (r'C:\\Users\\daryl\\OneDrive\\Documents\\GDAA3000\\ProjectDischarge'\n",
    "            r'\\RdrsSample\\LstmDatasets\\NsWeatherData\\Daily')\n",
    "\n",
    "# Send a GET request to the webpage.\n",
    "response = requests.get(url)\n",
    "\n",
    "# Parse the webpage with BeautifulSoup.\n",
    "soup = BeautifulSoup(response.text, 'html.parser')\n",
    "\n",
    "# Find all 'a' tags (which define hyperlinks) in the HTML\n",
    "links = soup.find_all('a')\n",
    "\n",
    "# Define the time period of interest.\n",
    "start_date = datetime(2011, 1, 1)\n",
    "end_date = datetime(2021, 12, 31)\n",
    "\n",
    "# Loop over the links on the webpage.\n",
    "for link in links:\n",
    "    # Get the href attribute of the CSV links.\n",
    "    if link.get('href').endswith('.csv'):\n",
    "        # Extract the date from the filename. The date is the 5th element when splitting by '_'. \n",
    "        filename = link.get('href')\n",
    "        date_str = filename.split('_')[4]  \n",
    "        file_date = datetime.strptime(date_str, '%Y')\n",
    "\n",
    "        # Check if the file is within the date range and has the correct prefix\n",
    "        if stn_id in filename and start_date <= file_date <= end_date:\n",
    "            # Construct the full URL to the CSV file.\n",
    "            csv_url = url + filename\n",
    "\n",
    "            # Send a GET request to the CSV URL.\n",
    "            csv_response = requests.get(csv_url)\n",
    "\n",
    "            # Create the name format for the saved CSV file. It will contain\n",
    "            # the station ID and the year of the data.\n",
    "            csv_name = filename.split('_')[3] + '_' + filename.split('_')[4] + '.csv'\n",
    "\n",
    "            # Create the full path to the file\n",
    "            file_path = os.path.join(save_dir, csv_name)\n",
    "\n",
    "            # Write the contents of the response to a file\n",
    "            with open(file_path, 'wb') as f:\n",
    "                f.write(csv_response.content)"
   ]
  }
 ],
 "metadata": {
  "kernelspec": {
   "display_name": "Python 3",
   "language": "python",
   "name": "python3"
  },
  "language_info": {
   "codemirror_mode": {
    "name": "ipython",
    "version": 3
   },
   "file_extension": ".py",
   "mimetype": "text/x-python",
   "name": "python",
   "nbconvert_exporter": "python",
   "pygments_lexer": "ipython3",
   "version": "3.12.0"
  }
 },
 "nbformat": 4,
 "nbformat_minor": 2
}
