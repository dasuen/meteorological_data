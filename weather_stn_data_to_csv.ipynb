{
 "cells": [
  {
   "cell_type": "code",
   "execution_count": 3,
   "metadata": {},
   "outputs": [],
   "source": [
    "import pandas as pd\n",
    "import os"
   ]
  },
  {
   "cell_type": "code",
   "execution_count": 15,
   "metadata": {},
   "outputs": [
    {
     "name": "stdout",
     "output_type": "stream",
     "text": [
      "Index(['x', 'y', 'UTC_DAY', 'PRECIP_AMOUNT_FLAG', 'LOCAL_DAY', 'LOCAL_HOUR',\n",
      "       'VISIBILITY_FLAG', 'UTC_DATE', 'STATION_PRESSURE', 'RELATIVE_HUMIDITY',\n",
      "       'DEW_POINT_TEMP', 'TEMP_FLAG', 'HUMIDEX_FLAG', 'LOCAL_DATE',\n",
      "       'CLIMATE_IDENTIFIER', 'WINDCHILL_FLAG', 'ID', 'RELATIVE_HUMIDITY_FLAG',\n",
      "       'DEW_POINT_TEMP_FLAG', 'TEMP', 'LOCAL_YEAR', 'WIND_DIRECTION',\n",
      "       'STATION_PRESSURE_FLAG', 'VISIBILITY', 'HUMIDEX', 'PRECIP_AMOUNT',\n",
      "       'WIND_DIRECTION_FLAG', 'WIND_SPEED_FLAG', 'PROVINCE_CODE', 'UTC_YEAR',\n",
      "       'WINDCHILL', 'STATION_NAME', 'WEATHER_FRE_DESC', 'WIND_SPEED',\n",
      "       'UTC_MONTH', 'WEATHER_ENG_DESC', 'LOCAL_MONTH'],\n",
      "      dtype='object')\n"
     ]
    }
   ],
   "source": [
    "dir = (r'C:\\Users\\daryl\\OneDrive\\Documents\\GDAA3000\\ProjectDischarge\\RdrsSample'\n",
    "       r'\\LstmDatasets\\NsHourlyWeatherData\\CaribouPoint\\Daily')\n",
    "wanted = ['climate_daily_NS_8200774_2013-01_P1D.csv',\n",
    "          'climate_daily_NS_8200774_2013-02_P1D.csv']\n",
    "dfs = []\n",
    "for file in os.listdir(dir):\n",
    "    if file in wanted:\n",
    "        if file.endswith('.csv'):\n",
    "            file_path = os.path.join(dir, file) \n",
    "            df = pd.read_csv(file_path)\n",
    "            dfs.append(df)\n",
    "\n",
    "# Concatenate all dataframes in the list\n",
    "combined_df = pd.concat(dfs)\n",
    "\n",
    "# Convert the 'date' column to datetime\n",
    "combined_df['UTC_DATE'] = pd.to_datetime(combined_df['UTC_DATE'], format='%Y-%m-%dT%H:%M:%S')\n",
    "\n",
    "# Sort the dataframe by date\n",
    "combined_df = combined_df.sort_values('UTC_DATE')\n",
    "\n",
    "# Reset the index of the dataframe\n",
    "combined_df.reset_index(drop=True, inplace=True)\n",
    "\n",
    "# Save the dataframe to a new CSV file\n",
    "# combined_df.to_csv('combined_data.csv', index=False)\n",
    "print(combined_df.columns)"
   ]
  },
  {
   "cell_type": "code",
   "execution_count": null,
   "metadata": {},
   "outputs": [],
   "source": []
  }
 ],
 "metadata": {
  "kernelspec": {
   "display_name": "geospatial",
   "language": "python",
   "name": "python3"
  },
  "language_info": {
   "codemirror_mode": {
    "name": "ipython",
    "version": 3
   },
   "file_extension": ".py",
   "mimetype": "text/x-python",
   "name": "python",
   "nbconvert_exporter": "python",
   "pygments_lexer": "ipython3",
   "version": "3.12.0"
  }
 },
 "nbformat": 4,
 "nbformat_minor": 2
}
